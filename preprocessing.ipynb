{
 "cells": [
  {
   "cell_type": "code",
   "execution_count": 51,
   "metadata": {},
   "outputs": [],
   "source": [
    "import pretty_midi\n",
    "import json \n",
    "import pandas as pd"
   ]
  },
  {
   "cell_type": "code",
   "execution_count": 52,
   "metadata": {},
   "outputs": [],
   "source": [
    "def load_piano_roll(filename, frequency=100):\n",
    "    midi_pretty_format = pretty_midi.PrettyMIDI(filename)\n",
    "    piano_midi = midi_pretty_format.instruments[0] # Get the piano channels\n",
    "    piano_roll = piano_midi.get_piano_roll()\n",
    "\n",
    "def load_metadata(filename):\n",
    "    d = pd.read_csv(filename)\n",
    "    print('Loaded metadata for {} midi files.'.format(len(d)))\n",
    "    return d "
   ]
  },
  {
   "cell_type": "code",
   "execution_count": 53,
   "metadata": {},
   "outputs": [
    {
     "name": "stdout",
     "output_type": "stream",
     "text": [
      "<class 'pandas.core.frame.DataFrame'>\n",
      "Loaded metadata for 1282 midi files.\n"
     ]
    }
   ],
   "source": [
    "data = load_metadata('data/raw_data/maestro-v2.0.0/maestro-v2.0.0.csv')"
   ]
  },
  {
   "cell_type": "code",
   "execution_count": 54,
   "metadata": {},
   "outputs": [
    {
     "data": {
      "text/html": [
       "<div>\n",
       "<style scoped>\n",
       "    .dataframe tbody tr th:only-of-type {\n",
       "        vertical-align: middle;\n",
       "    }\n",
       "\n",
       "    .dataframe tbody tr th {\n",
       "        vertical-align: top;\n",
       "    }\n",
       "\n",
       "    .dataframe thead th {\n",
       "        text-align: right;\n",
       "    }\n",
       "</style>\n",
       "<table border=\"1\" class=\"dataframe\">\n",
       "  <thead>\n",
       "    <tr style=\"text-align: right;\">\n",
       "      <th></th>\n",
       "      <th>canonical_composer</th>\n",
       "      <th>canonical_title</th>\n",
       "      <th>split</th>\n",
       "      <th>year</th>\n",
       "      <th>midi_filename</th>\n",
       "      <th>audio_filename</th>\n",
       "      <th>duration</th>\n",
       "    </tr>\n",
       "  </thead>\n",
       "  <tbody>\n",
       "    <tr>\n",
       "      <th>0</th>\n",
       "      <td>Alban Berg</td>\n",
       "      <td>Sonata Op. 1</td>\n",
       "      <td>train</td>\n",
       "      <td>2018</td>\n",
       "      <td>2018/MIDI-Unprocessed_Chamber3_MID--AUDIO_10_R...</td>\n",
       "      <td>2018/MIDI-Unprocessed_Chamber3_MID--AUDIO_10_R...</td>\n",
       "      <td>698.661160</td>\n",
       "    </tr>\n",
       "    <tr>\n",
       "      <th>1</th>\n",
       "      <td>Alban Berg</td>\n",
       "      <td>Sonata Op. 1</td>\n",
       "      <td>train</td>\n",
       "      <td>2008</td>\n",
       "      <td>2008/MIDI-Unprocessed_03_R2_2008_01-03_ORIG_MI...</td>\n",
       "      <td>2008/MIDI-Unprocessed_03_R2_2008_01-03_ORIG_MI...</td>\n",
       "      <td>759.518471</td>\n",
       "    </tr>\n",
       "    <tr>\n",
       "      <th>2</th>\n",
       "      <td>Alban Berg</td>\n",
       "      <td>Sonata Op. 1</td>\n",
       "      <td>train</td>\n",
       "      <td>2017</td>\n",
       "      <td>2017/MIDI-Unprocessed_066_PIANO066_MID--AUDIO-...</td>\n",
       "      <td>2017/MIDI-Unprocessed_066_PIANO066_MID--AUDIO-...</td>\n",
       "      <td>464.649433</td>\n",
       "    </tr>\n",
       "    <tr>\n",
       "      <th>3</th>\n",
       "      <td>Alexander Scriabin</td>\n",
       "      <td>24 Preludes Op. 11, No. 13-24</td>\n",
       "      <td>train</td>\n",
       "      <td>2004</td>\n",
       "      <td>2004/MIDI-Unprocessed_XP_21_R1_2004_01_ORIG_MI...</td>\n",
       "      <td>2004/MIDI-Unprocessed_XP_21_R1_2004_01_ORIG_MI...</td>\n",
       "      <td>872.640588</td>\n",
       "    </tr>\n",
       "    <tr>\n",
       "      <th>4</th>\n",
       "      <td>Alexander Scriabin</td>\n",
       "      <td>3 Etudes, Op. 65</td>\n",
       "      <td>validation</td>\n",
       "      <td>2006</td>\n",
       "      <td>2006/MIDI-Unprocessed_17_R1_2006_01-06_ORIG_MI...</td>\n",
       "      <td>2006/MIDI-Unprocessed_17_R1_2006_01-06_ORIG_MI...</td>\n",
       "      <td>397.857508</td>\n",
       "    </tr>\n",
       "  </tbody>\n",
       "</table>\n",
       "</div>"
      ],
      "text/plain": [
       "   canonical_composer                canonical_title       split  year  \\\n",
       "0          Alban Berg                   Sonata Op. 1       train  2018   \n",
       "1          Alban Berg                   Sonata Op. 1       train  2008   \n",
       "2          Alban Berg                   Sonata Op. 1       train  2017   \n",
       "3  Alexander Scriabin  24 Preludes Op. 11, No. 13-24       train  2004   \n",
       "4  Alexander Scriabin               3 Etudes, Op. 65  validation  2006   \n",
       "\n",
       "                                       midi_filename  \\\n",
       "0  2018/MIDI-Unprocessed_Chamber3_MID--AUDIO_10_R...   \n",
       "1  2008/MIDI-Unprocessed_03_R2_2008_01-03_ORIG_MI...   \n",
       "2  2017/MIDI-Unprocessed_066_PIANO066_MID--AUDIO-...   \n",
       "3  2004/MIDI-Unprocessed_XP_21_R1_2004_01_ORIG_MI...   \n",
       "4  2006/MIDI-Unprocessed_17_R1_2006_01-06_ORIG_MI...   \n",
       "\n",
       "                                      audio_filename    duration  \n",
       "0  2018/MIDI-Unprocessed_Chamber3_MID--AUDIO_10_R...  698.661160  \n",
       "1  2008/MIDI-Unprocessed_03_R2_2008_01-03_ORIG_MI...  759.518471  \n",
       "2  2017/MIDI-Unprocessed_066_PIANO066_MID--AUDIO-...  464.649433  \n",
       "3  2004/MIDI-Unprocessed_XP_21_R1_2004_01_ORIG_MI...  872.640588  \n",
       "4  2006/MIDI-Unprocessed_17_R1_2006_01-06_ORIG_MI...  397.857508  "
      ]
     },
     "execution_count": 54,
     "metadata": {},
     "output_type": "execute_result"
    }
   ],
   "source": [
    "data.head()"
   ]
  },
  {
   "cell_type": "code",
   "execution_count": null,
   "metadata": {},
   "outputs": [],
   "source": []
  },
  {
   "cell_type": "code",
   "execution_count": null,
   "metadata": {},
   "outputs": [],
   "source": []
  }
 ],
 "metadata": {
  "kernelspec": {
   "display_name": "Python 3",
   "language": "python",
   "name": "python3"
  },
  "language_info": {
   "codemirror_mode": {
    "name": "ipython",
    "version": 3
   },
   "file_extension": ".py",
   "mimetype": "text/x-python",
   "name": "python",
   "nbconvert_exporter": "python",
   "pygments_lexer": "ipython3",
   "version": "3.6.8"
  }
 },
 "nbformat": 4,
 "nbformat_minor": 2
}
